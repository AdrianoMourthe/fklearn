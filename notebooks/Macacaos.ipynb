{
 "cells": [
  {
   "cell_type": "code",
   "execution_count": 1,
   "metadata": {},
   "outputs": [],
   "source": [
    "from fklearn.training.classification import lgbm_classification_learner\n",
    "from fklearn.validation.perturbators import perturbator, nullify, sample_columns\n",
    "from fklearn.validation.validator import validator\n",
    "from fklearn.validation.evaluators import auc_evaluator\n",
    "from fklearn.validation.splitters import out_of_time_and_space_splitter\n",
    "from fklearn.training.pipeline import build_pipeline\n",
    "from datetime import datetime\n",
    "from toolz import curry\n",
    "import random\n",
    "import pandas as pd\n",
    "random.seed(42)"
   ]
  },
  {
   "cell_type": "markdown",
   "metadata": {},
   "source": [
    "# Fixed"
   ]
  },
  {
   "cell_type": "code",
   "execution_count": 2,
   "metadata": {},
   "outputs": [],
   "source": [
    "#All in this cell was imported from the current healbot3 model\n",
    "\n",
    "SELECTED_FEATURES = ['stddev_asset__revolving_balance_0_30',\n",
    "                     'amount_agreement_mean',\n",
    "                     'current_days_delinquent',\n",
    "                     'scr__cartao_de_credito_compra_lojista_days_since_first_relations',\n",
    "                     'max_asset__installments_issuer_balance_0_90',\n",
    "                     'max_payment_90',\n",
    "                     'boavista_consult__score_bvnt',\n",
    "                     'sum_limit_request_time_weight_180',\n",
    "                     'mean_previous_delinquencies_amount_weight_180',\n",
    "                     'profit_and_loss__credit_loss_recovery_balance',\n",
    "                     'std_payments_180',\n",
    "                     'avg_asset__late_balance_0_180',\n",
    "                     'sum_limit_request_time_weight',\n",
    "                     'std_payments',\n",
    "                     'scr__late_balance_over_customer__updated_reported_income',\n",
    "                     'customer__updated_reported_income_with_attachment_fixed',\n",
    "                     'score_utilization',\n",
    "                     'latitude',\n",
    "                     'customer_age',\n",
    "                     'boavista_consult__score_bvrenda',\n",
    "                     'sum_spends',\n",
    "                     'email_event_30',\n",
    "                     'count_call_direction__inbound_30',\n",
    "                     'scr__limit_balance',\n",
    "                     'serasa_consult__cnu_1_score',\n",
    "                     'scpc_debts_60',\n",
    "                     'mean_previous_delinquencies_duration_90',\n",
    "                     'charge_amount_agreement_mean',\n",
    "                     'profit_and_loss__credit_loss_balance',\n",
    "                     'avg_call_duration_30',\n",
    "                     'avg_asset__installments_issuer_balance_0_30',\n",
    "                     'charges_agreement_mean',\n",
    "                     'boavista_consult__score_bv10',\n",
    "                     'ongoing_agreement_amount',\n",
    "                     'count_previous_delinquencies',\n",
    "                     'asset__pre_loss_balance',\n",
    "                     'current_days_delinquent_90',\n",
    "                     'mean_previous_delinquencies_duration_weight_90',\n",
    "                     'max_asset__late_balance_0_30',\n",
    "                     'stddev_asset__late_balance_0_90',\n",
    "                     'count_payments_180',\n",
    "                     'max_asset__late_balance_0_90',\n",
    "                     'ongoing_agreement_discount',\n",
    "                     'geo_risk_v2',\n",
    "                     'avg_asset__late_balance_0_30',\n",
    "                     'scr__current_balance',\n",
    "                     'avg_spend_outros',\n",
    "                     'serasa_consult__bpip_income',\n",
    "                     'chat_event_30',\n",
    "                     'scr__short_term_debt',\n",
    "                     'scr__current_balance_over_customer__updated_reported_income_lagged_2',\n",
    "                     'scr__late_balance_over_current_balance_lagged_1',\n",
    "                     'max_payment_180',\n",
    "                     'max_asset__installments_merchant_balance_0_180',\n",
    "                     'ongoing_agreement_days_since_start',\n",
    "                     'score_utilized',\n",
    "                     'days_since_last_chat',\n",
    "                     'count_payments',\n",
    "                     'geo_risk',\n",
    "                     'positives_asset__late_balance_0_180',\n",
    "                     'scr__late_balance_over_current_balance_lagged_2',\n",
    "                     'serasa_consult__income',\n",
    "                     'scr__limites_de_credito_days_since_first_relations',\n",
    "                     'avg_asset__installments_merchant_balance_0_90',\n",
    "                     'ongoing_agreement_charges',\n",
    "                     'scr__current_balance_lagged_1',\n",
    "                     'scr__limites_de_credito_limite_credito_lagged_1',\n",
    "                     'mean_previous_delinquencies_duration_weight',\n",
    "                     'mean_previous_delinquencies_duration_180',\n",
    "                     'max_asset__installments_issuer_balance_0_30',\n",
    "                     'asset__late_balance',\n",
    "                     'score_max_credit_limit',\n",
    "                     'ongoing_agreement_downpayment',\n",
    "                     'scr__limit_balance_over_customer__updated_reported_income',\n",
    "                     'current_days_delinquent_180',\n",
    "                     'scr__long_term_debt_over_customer__updated_reported_income_lagged_1',\n",
    "                     'stddev_asset__late_balance_0_180',\n",
    "                     'mean_previous_delinquencies_amount_weight_90',\n",
    "                     'avg_spends',\n",
    "                     'avg_asset__late_balance_0_90',\n",
    "                     'avg_asset__installments_issuer_balance_0_90',\n",
    "                     'stddev_asset__late_balance_0_30',\n",
    "                     'mean_previous_delinquencies_duration',\n",
    "                     'stddev_asset__revolving_balance_0_90',\n",
    "                     'serasa_consult__csba_score',\n",
    "                     'mean_payments_90',\n",
    "                     'scr__limites_de_credito_limite_credito_lagged_2',\n",
    "                     'scr__late_balance_over_current_balance',\n",
    "                     'avg_asset__installments_issuer_balance_0_180',\n",
    "                     'avg_asset__installments_merchant_balance_0_180',\n",
    "                     'ongoing_agreement_charge_amount',\n",
    "                     'scr__limites_de_credito_limite_credito_venc_time_weighted',\n",
    "                     'asset__installments_issuer_balance',\n",
    "                     'count_payments_90',\n",
    "                     'stddev_asset__installments_issuer_balance_0_90',\n",
    "                     'days_since_last_email',\n",
    "                     'scr__if_quantity',\n",
    "                     'positives_asset__installments_issuer_balance_0_90',\n",
    "                     'asset__revolving_balance',\n",
    "                     'scr__long_term_debt_lagged_1',\n",
    "                     'downpayment_agreement_mean',\n",
    "                     'positives_asset__late_balance_0_90',\n",
    "                     'scr__limit_balance_lagged_2',\n",
    "                     'registry_quantity_60',\n",
    "                     'mean_previous_delinquencies_amount_weight',\n",
    "                     'boavista_consult__score_bvrec',\n",
    "                     'discount_agreement_mean',\n",
    "                     'scr__limites_de_credito_limite_credito',\n",
    "                     'serasa_consult__score',\n",
    "                     'positives_asset__late_balance_0_30',\n",
    "                     'std_payments_90',\n",
    "                     'scr__short_term_debt_lagged_2',\n",
    "                     'max_payment',\n",
    "                     'scr__late_balance_over_customer__updated_reported_income_lagged_1',\n",
    "                     'mean_previous_delinquencies_duration_weight_180',\n",
    "                     'avg_asset__revolving_balance_0_30',\n",
    "                     'longitude',\n",
    "                     'scr__limit_balance_lagged_1',\n",
    "                     'asset__renegotiated_balance',\n",
    "                     'boavista_consult__score_bvnu']\n",
    "\n",
    "LR = 0.01\n",
    "N_ESTIM = 1000\n",
    "EXTRA_PARAMETERS = { \"max_depth\": 7,\n",
    "                     \"num_leaves\": 70,\n",
    "                     \"feature_fraction\": 0.5,\n",
    "                     \"min_data_in_leaf\": 100,\n",
    "                     \"reg_alpha\": 9e-08,\n",
    "                     \"subsample\": 0.85,\n",
    "                     \"seed\": 4224,\n",
    "                     \"min_child_weight\": 20,\n",
    "                     \"min_gain_to_split\": 0.5,\n",
    "                     \"nthread\": -1,\n",
    "                     \"verbose\": -1}"
   ]
  },
  {
   "cell_type": "code",
   "execution_count": 3,
   "metadata": {},
   "outputs": [],
   "source": [
    "#hack to read just a part of the dataset\n",
    "\n",
    "#skiprows function\n",
    "@curry\n",
    "def coin_toss(i, true_perc: float) -> bool:\n",
    "    if i == 0: #read column names \n",
    "        return False\n",
    "    \n",
    "    if random.random() < true_perc:\n",
    "        return True\n",
    "    return False\n",
    "\n",
    "def train_test_ratio(fn_out):\n",
    "    folds = fn_out[0]\n",
    "    for i, fold in enumerate(folds):\n",
    "        tr_ratio = len(fold[0]) / (len(fold[0]) + len(fold[1][0]))\n",
    "        print(f'split {i} train ratio: {tr_ratio}')"
   ]
  },
  {
   "cell_type": "code",
   "execution_count": 4,
   "metadata": {},
   "outputs": [],
   "source": [
    "skip_fn = coin_toss(true_perc=0.95) # get 80% of dataset skipped\n",
    "df = pd.read_csv('../../macacaos/data/sample.csv',infer_datetime_format=True, skiprows=skip_fn)\n",
    "df['score_date'] = pd.to_datetime(df['score_date'])"
   ]
  },
  {
   "cell_type": "markdown",
   "metadata": {},
   "source": [
    "# AUC vs Percentage of null columns 🤔"
   ]
  },
  {
   "cell_type": "markdown",
   "metadata": {},
   "source": [
    "Mean across runs in blue, 2 stds boundary in red\n",
    "\n",
    "(There might be a weird effect happening because\n",
    "\n",
    "a) we're only using 20% of data\n",
    "\n",
    "b) the out of time and space splitter is too aggressive)"
   ]
  },
  {
   "cell_type": "code",
   "execution_count": 5,
   "metadata": {},
   "outputs": [
    {
     "name": "stdout",
     "output_type": "stream",
     "text": [
      "split 0 train ratio: 0.7652684024429444\n",
      "split 1 train ratio: 0.76408\n"
     ]
    }
   ],
   "source": [
    "#balanced?\n",
    "limit = pd.to_datetime(\"2018-12-01T00:00:00.000Z\")\n",
    "my_split_fn = out_of_time_and_space_splitter(n_splits = 2,\n",
    "                                            in_time_limit=limit,\n",
    "                                            time_column=\"score_date\",\n",
    "                                            space_column=\"collection__id\"\n",
    "                                            )\n",
    "train_test_ratio(my_split_fn(df))\n"
   ]
  },
  {
   "cell_type": "code",
   "execution_count": 16,
   "metadata": {},
   "outputs": [
    {
     "data": {
      "application/vnd.jupyter.widget-view+json": {
       "model_id": "3f4fd2ce81a74a3491e990d7aad7f8aa",
       "version_major": 2,
       "version_minor": 0
      },
      "text/plain": [
       "HBox(children=(IntProgress(value=0, max=25), HTML(value='')))"
      ]
     },
     "metadata": {},
     "output_type": "display_data"
    }
   ],
   "source": [
    "from tqdm import tqdm_notebook\n",
    "import numpy as np\n",
    "\n",
    "train_fn = build_pipeline(\n",
    "    lgbm_classification_learner(features=SELECTED_FEATURES, target='target', learning_rate=LR,\n",
    "                                        num_estimators=N_ESTIM, extra_params=EXTRA_PARAMETERS))\n",
    "\n",
    "limit = pd.to_datetime(\"2018-12-01T00:00:00.000Z\")\n",
    "my_split_fn = out_of_time_and_space_splitter(n_splits = 2,\n",
    "                                            in_time_limit=limit,\n",
    "                                            time_column=\"score_date\",\n",
    "                                            space_column=\"collection__id\"\n",
    "                                            )\n",
    "\n",
    "auc_eval_fn = auc_evaluator(prediction_column=\"prediction\",\n",
    "                          target_column=\"target\")\n",
    "\n",
    "RES = 25\n",
    "RUNS_PER_RES = 3\n",
    "runs = []\n",
    "threshs = np.linspace(0, 1, RES)\n",
    "for thresh in tqdm_notebook(threshs):\n",
    "    for i in range(RUNS_PER_RES):\n",
    "        logs = []\n",
    "        corr_cols = sample_columns(df[SELECTED_FEATURES], thresh)\n",
    "        perturb_fn = perturbator(cols = corr_cols, corruption_fn = nullify())\n",
    "        log = validator(df,\n",
    "                      split_fn=my_split_fn,\n",
    "                      train_fn=train_fn,\n",
    "                      eval_fn=auc_eval_fn,\n",
    "                      perturb_fn_train=perturb_fn)\n",
    "        logs.append(log)\n",
    "    runs.append(logs)"
   ]
  },
  {
   "cell_type": "code",
   "execution_count": 17,
   "metadata": {},
   "outputs": [],
   "source": [
    "def parse_metric(log):\n",
    "    metric = 'auc_evaluator__target'\n",
    "    parsed = []\n",
    "    for fold in log['validator_log']:\n",
    "        parsed.append(fold['eval_results'][0][metric])\n",
    "    return parsed"
   ]
  },
  {
   "cell_type": "code",
   "execution_count": 18,
   "metadata": {},
   "outputs": [
    {
     "data": {
      "image/png": "[encoded data removed]",
      "text/plain": [
       "<Figure size 1440x720 with 1 Axes>"
      ]
     },
     "metadata": {
      "needs_background": "light"
     },
     "output_type": "display_data"
    }
   ],
   "source": [
    "import matplotlib.pyplot as plt\n",
    "%matplotlib inline\n",
    "means = []\n",
    "stds = []\n",
    "\n",
    "for thresh, run in zip(threshs, runs):\n",
    "    metrics = []\n",
    "    for sample in run:\n",
    "        metrics += parse_metric(sample)\n",
    "    stds.append(np.std(metrics))\n",
    "    means.append(np.mean(metrics))\n",
    "    \n",
    "means = np.array(means)\n",
    "stds = np.array(stds)\n",
    "\n",
    "plt.figure(figsize=(20,10))\n",
    "plt.ylim(0.5, 1)\n",
    "\n",
    "plt.plot(threshs, means)\n",
    "plt.plot(threshs, means + 2*stds, 'r--')\n",
    "plt.plot(threshs, means - 2*stds, 'r--')\n",
    "plt.show()"
   ]
  },
  {
   "cell_type": "code",
   "execution_count": null,
   "metadata": {},
   "outputs": [],
   "source": []
  }
 ],
 "metadata": {
  "kernelspec": {
   "display_name": "Python 3",
   "language": "python",
   "name": "python3"
  },
  "language_info": {
   "codemirror_mode": {
    "name": "ipython",
    "version": 3
   },
   "file_extension": ".py",
   "mimetype": "text/x-python",
   "name": "python",
   "nbconvert_exporter": "python",
   "pygments_lexer": "ipython3",
   "version": "3.6.8"
  }
 },
 "nbformat": 4,
 "nbformat_minor": 2
}
